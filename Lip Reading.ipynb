{
 "cells": [
  {
   "cell_type": "raw",
   "id": "1276b54a-e05e-44da-9513-afb67370dc76",
   "metadata": {},
   "source": [
    "Import Dependencies"
   ]
  },
  {
   "cell_type": "code",
   "execution_count": null,
   "id": "b46100cc-8c66-4b5d-a1f2-42d976549ff0",
   "metadata": {},
   "outputs": [],
   "source": [
    "!pip list"
   ]
  },
  {
   "cell_type": "code",
   "execution_count": null,
   "id": "9e8b9c09-d9a2-4377-96ae-ef893a642395",
   "metadata": {},
   "outputs": [],
   "source": [
    "import os\n",
    "import cv2\n",
    "import tensorflow as tf\n",
    "import numpy as np\n",
    "from typing import List\n",
    "from matplotlib import pyplot as plt\n",
    "import imageio"
   ]
  },
  {
   "cell_type": "code",
   "execution_count": null,
   "id": "e31753c4-f8fe-4960-b631-f7394d022719",
   "metadata": {},
   "outputs": [],
   "source": [
    "physical_devices = tf.config.list_physical_devices('GPU')\n",
    "try:\n",
    "    tf.config.experimental.set_memory_growth(physical_devices[0], True)\n",
    "except:\n",
    "    pass"
   ]
  },
  {
   "cell_type": "raw",
   "id": "7eef4441-6a6f-404d-b1b3-24ad5b829e1f",
   "metadata": {},
   "source": [
    "Build Data Loading Functions"
   ]
  },
  {
   "cell_type": "code",
   "execution_count": null,
   "id": "9232b002-8521-43e2-bef0-678bf84761a4",
   "metadata": {},
   "outputs": [],
   "source": [
    "import gdown    # easier to import files from Gdrive"
   ]
  },
  {
   "cell_type": "code",
   "execution_count": null,
   "id": "4649c156-cd7f-4cb6-84dc-76f138a0f3c1",
   "metadata": {},
   "outputs": [],
   "source": [
    "url = 'https://drive.google.com/uc?id=1YlvpDLix3S-U8fd-gqRwPcWXAXm8JwjL'\n",
    "output = 'data.zip'\n",
    "gdown.download(url, output, quiet=False)\n",
    "gdown.extractall('data.zip')"
   ]
  },
  {
   "cell_type": "code",
   "execution_count": null,
   "id": "04acf8e9-4095-49ce-9b46-ffa288cc39fc",
   "metadata": {},
   "outputs": [],
   "source": [
    "def load_video(path:str) -> List[float]:\n",
    "    cap = cv2.VideoCapture(path)\n",
    "    frames = []\n",
    "    for _ in range(int(cap.get(cv2.CAP_PROP_FRAME_COUNT))):\n",
    "        ret, frame = cap.read()\n",
    "        frame = tf.image.rgb_to_grayscale(frame)\n",
    "        frames.append(frame[190:236, 80:220, :])    # to etract the lip frames\n",
    "    cap.release()\n",
    "\n",
    "    mean = tf.math.reduce_mean(frames)\n",
    "    std = tf.math.reduce_std(tf.cast(frames, tf.float32))\n",
    "    return tf.cast((frames-mean), tf.float32)/std"
   ]
  },
  {
   "cell_type": "code",
   "execution_count": null,
   "id": "1fa38ddb-2b5d-434e-892f-28098c580ead",
   "metadata": {},
   "outputs": [],
   "source": [
    "vocab = [x for x in \"abcdefghijklmnopqrstuvwxyz'?!1234567890 \"]"
   ]
  },
  {
   "cell_type": "code",
   "execution_count": null,
   "id": "a7ac8d0b-f5ba-4988-97ed-26db23d52ae6",
   "metadata": {
    "scrolled": true
   },
   "outputs": [],
   "source": [
    "vocab"
   ]
  },
  {
   "cell_type": "code",
   "execution_count": null,
   "id": "cc83d866-a68e-4809-9bfe-230290ff8778",
   "metadata": {},
   "outputs": [],
   "source": [
    "char_to_num = tf.keras.layers.StringLookup(vocabulary=vocab, oov_token=\"\")\n",
    "num_to_char = tf.keras.layers.StringLookup(vocabulary=char_to_num.get_vocabulary(), oov_token=\"\", invert=True)\n",
    "print(\n",
    "    f\"The vocabulary is: {char_to_num.get_vocabulary()} \"\n",
    "    f\"(size={char_to_num.vocabulary_size()})\"\n",
    ")"
   ]
  },
  {
   "cell_type": "code",
   "execution_count": null,
   "id": "29a40234-342e-46db-90ce-708d54f15bd7",
   "metadata": {},
   "outputs": [],
   "source": [
    "char_to_num(['a', 'm', 'e', 'y', 'a'])"
   ]
  },
  {
   "cell_type": "code",
   "execution_count": null,
   "id": "40ff13ba-5bb6-4b56-92e3-a984b9190e08",
   "metadata": {},
   "outputs": [],
   "source": [
    "num_to_char([ 1, 13,  5, 25,  1])"
   ]
  },
  {
   "cell_type": "code",
   "execution_count": null,
   "id": "d39c1c25-4120-46ba-8146-1b56d868a6b2",
   "metadata": {},
   "outputs": [],
   "source": [
    "def load_alignments(path:str) -> List[str]:\n",
    "    with open(path, 'r') as f:\n",
    "        lines = f.readlines()\n",
    "    tokens = []\n",
    "    for line in lines:\n",
    "        line = line.split()\n",
    "        if line[2] != 'sil':    # ignore the line with silence\n",
    "            tokens = [*tokens, ' ', line[2]]\n",
    "    return char_to_num(tf.reshape(tf.strings.unicode_split(tokens, input_encoding='UTF-8'), (-1)))[1:]"
   ]
  },
  {
   "cell_type": "code",
   "execution_count": null,
   "id": "abf99236-551b-4a8e-93a0-a381a1956db1",
   "metadata": {},
   "outputs": [],
   "source": [
    "def load_data(path:str):\n",
    "    path = bytes.decode(path.numpy())\n",
    "    # file name splitting\n",
    "    file_name = path.split('\\\\')[-1].split('.')[0]\n",
    "    video_path = os.path.join('data', 's1', f'{file_name}.mpg')\n",
    "    alignment_path = os.path.join('data', 'alignments', 's1', f'{file_name}.align')\n",
    "    frames = load_video(video_path)\n",
    "    alignments = load_alignments(alignment_path)\n",
    "    return frames, alignments"
   ]
  },
  {
   "cell_type": "code",
   "execution_count": null,
   "id": "c98acc1a-189e-413d-ad4f-16f6bf4ccff8",
   "metadata": {},
   "outputs": [],
   "source": [
    "test_path = \".\\\\data\\\\s1\\\\bbal6n.mpg\""
   ]
  },
  {
   "cell_type": "code",
   "execution_count": null,
   "id": "66e43afb-5e09-4a20-a8b7-7b807a9216fd",
   "metadata": {},
   "outputs": [],
   "source": [
    "tf.convert_to_tensor(test_path).numpy().decode('utf-8').split('\\\\')[-1].split(\".\")[0]"
   ]
  },
  {
   "cell_type": "code",
   "execution_count": null,
   "id": "59b041ce-9e28-4787-bd2c-14b6451398da",
   "metadata": {
    "scrolled": true
   },
   "outputs": [],
   "source": [
    "frames, alignments = load_data(tf.convert_to_tensor(test_path))"
   ]
  },
  {
   "cell_type": "code",
   "execution_count": null,
   "id": "9f28c84d-4047-486b-b1f8-e10d52685c9d",
   "metadata": {},
   "outputs": [],
   "source": [
    "plt.imshow(frames[10])"
   ]
  },
  {
   "cell_type": "code",
   "execution_count": null,
   "id": "35ab6039-8df8-4677-bb60-bce0d42111c3",
   "metadata": {},
   "outputs": [],
   "source": [
    "alignments"
   ]
  },
  {
   "cell_type": "code",
   "execution_count": null,
   "id": "624cfd15-94de-4e51-bb20-ff57c608bdc7",
   "metadata": {},
   "outputs": [],
   "source": [
    "tf.strings.reduce_join([bytes.decode(x) for x in num_to_char(alignments.numpy()).numpy()])"
   ]
  },
  {
   "cell_type": "code",
   "execution_count": null,
   "id": "e2d8028e-f673-44de-bad6-cad59439853c",
   "metadata": {},
   "outputs": [],
   "source": [
    "def mappable_function(path:str) -> List[str]:\n",
    "    result = tf.py_function(load_data, [path], (tf.float32, tf.int64))\n",
    "    return result"
   ]
  },
  {
   "cell_type": "raw",
   "id": "5308b4a2-ea8b-4e7a-ba9b-a466b7d0480f",
   "metadata": {},
   "source": [
    "Create Data Pipelines"
   ]
  },
  {
   "cell_type": "code",
   "execution_count": null,
   "id": "060c8c3e-cfc0-4198-9f8c-afbf0749b842",
   "metadata": {},
   "outputs": [],
   "source": [
    "data = tf.data.Dataset.list_files('./data/s1/*.mpg')\n",
    "data = data.shuffle(500)\n",
    "data = data.map(mappable_function)\n",
    "data = data.padded_batch(2, padded_shapes=([75, None, None, None], [40]))\n",
    "data = data.prefetch(tf.data.AUTOTUNE)"
   ]
  },
  {
   "cell_type": "code",
   "execution_count": null,
   "id": "5f37ec57-bb0c-4bf8-aa2e-19d5d6f0ef93",
   "metadata": {},
   "outputs": [],
   "source": [
    "frames, alignments = data.as_numpy_iterator().next()"
   ]
  },
  {
   "cell_type": "code",
   "execution_count": null,
   "id": "e5a3a7a5-a8d9-482d-9e7b-79dbfd3a2e81",
   "metadata": {},
   "outputs": [],
   "source": [
    "len(frames)"
   ]
  },
  {
   "cell_type": "code",
   "execution_count": null,
   "id": "2c1f1af2-b4bb-470e-9b6b-ecd077208507",
   "metadata": {},
   "outputs": [],
   "source": [
    "test = data.as_numpy_iterator()"
   ]
  },
  {
   "cell_type": "code",
   "execution_count": null,
   "id": "c0d03af6-1f5d-4fb1-9d61-6b1de807cf03",
   "metadata": {},
   "outputs": [],
   "source": [
    "val = test.next(); val[0]"
   ]
  },
  {
   "cell_type": "code",
   "execution_count": null,
   "id": "3c33a63e-88b9-4606-b410-f33728833ea9",
   "metadata": {},
   "outputs": [],
   "source": [
    "imageio.mimsave('./animation.gif', val[0][0], fps=10)    # changes data to gif"
   ]
  },
  {
   "cell_type": "code",
   "execution_count": null,
   "id": "a457c69c-774b-418a-a65e-68e28a431185",
   "metadata": {},
   "outputs": [],
   "source": []
  }
 ],
 "metadata": {
  "kernelspec": {
   "display_name": "lipread",
   "language": "python",
   "name": "lipread"
  },
  "language_info": {
   "codemirror_mode": {
    "name": "ipython",
    "version": 3
   },
   "file_extension": ".py",
   "mimetype": "text/x-python",
   "name": "python",
   "nbconvert_exporter": "python",
   "pygments_lexer": "ipython3",
   "version": "3.8.10"
  }
 },
 "nbformat": 4,
 "nbformat_minor": 5
}
